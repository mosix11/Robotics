{
 "cells": [
  {
   "cell_type": "code",
   "execution_count": 1,
   "id": "29c17d24-3466-43ff-8c9c-456d65defeaa",
   "metadata": {
    "tags": []
   },
   "outputs": [
    {
     "name": "stdout",
     "output_type": "stream",
     "text": [
      "[[cos(q_2)*cos(q_3) sin(q_1)*sin(q_2)*cos(q_3) - sin(q_3)*cos(q_1)\n",
      "  sin(q_1)*sin(q_3) + sin(q_2)*cos(q_1)*cos(q_3)]\n",
      " [sin(q_3)*cos(q_2) sin(q_1)*sin(q_2)*sin(q_3) + cos(q_1)*cos(q_3)\n",
      "  -sin(q_1)*cos(q_3) + sin(q_2)*sin(q_3)*cos(q_1)]\n",
      " [-sin(q_2) sin(q_1)*cos(q_2) cos(q_1)*cos(q_2)]]\n"
     ]
    }
   ],
   "source": [
    "run test.py"
   ]
  },
  {
   "cell_type": "code",
   "execution_count": 1,
   "id": "2afdc86e-eb3d-486e-adbc-0a2bfe72c23d",
   "metadata": {
    "tags": []
   },
   "outputs": [
    {
     "name": "stdout",
     "output_type": "stream",
     "text": [
      "IPython console for SymPy 1.11.1 (Python 3.10.7-64-bit) (ground types: python)\n",
      "\n",
      "These commands were executed:\n",
      ">>> from sympy import *\n",
      ">>> x, y, z, t = symbols('x y z t')\n",
      ">>> k, m, n = symbols('k m n', integer=True)\n",
      ">>> f, g, h = symbols('f g h', cls=Function)\n",
      ">>> init_printing()\n",
      "\n",
      "Documentation can be found at https://docs.sympy.org/1.11.1/\n",
      "\n"
     ]
    }
   ],
   "source": [
    "from sympy import init_session\n",
    "init_session()"
   ]
  },
  {
   "cell_type": "code",
   "execution_count": 4,
   "id": "2443f77c-0dc2-482a-b4d4-54df3e900c52",
   "metadata": {
    "tags": []
   },
   "outputs": [
    {
     "name": "stdout",
     "output_type": "stream",
     "text": [
      "sin(q_3 + q_4)*cos(psi + theta)\n"
     ]
    }
   ],
   "source": [
    "run test.py"
   ]
  },
  {
   "cell_type": "code",
   "execution_count": 5,
   "id": "d12ad6c2-60f7-4261-b8a7-357e6e823e46",
   "metadata": {
    "tags": []
   },
   "outputs": [],
   "source": [
    "import sympy as sp\n",
    "q1, q2, q3, q4 = smp.symbols('theta, psi, q_3, q_4', real=True)\n",
    "expr = smp.cos(q1+q2) * smp.sin(q3+q4)\n"
   ]
  }
 ],
 "metadata": {
  "kernelspec": {
   "display_name": "Roboric Environment",
   "language": "python",
   "name": "robenv"
  },
  "language_info": {
   "codemirror_mode": {
    "name": "ipython",
    "version": 3
   },
   "file_extension": ".py",
   "mimetype": "text/x-python",
   "name": "python",
   "nbconvert_exporter": "python",
   "pygments_lexer": "ipython3",
   "version": "3.10.7"
  }
 },
 "nbformat": 4,
 "nbformat_minor": 5
}
